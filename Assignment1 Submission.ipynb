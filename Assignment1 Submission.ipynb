{
 "cells": [
  {
   "cell_type": "code",
   "execution_count": 1,
   "id": "1a56fec9",
   "metadata": {},
   "outputs": [],
   "source": [
    "X=2\n",
    "Y=5\n",
    "XY='Hey'"
   ]
  },
  {
   "cell_type": "code",
   "execution_count": 2,
   "id": "a28bf4c9",
   "metadata": {},
   "outputs": [
    {
     "name": "stdout",
     "output_type": "stream",
     "text": [
      "7 Hey\n"
     ]
    }
   ],
   "source": [
    "print(X+Y,XY)\n"
   ]
  },
  {
   "cell_type": "code",
   "execution_count": 3,
   "id": "a8681da4",
   "metadata": {},
   "outputs": [
    {
     "name": "stdout",
     "output_type": "stream",
     "text": [
      "MY name is Rajath Kumar M.P. I love Python.\n"
     ]
    }
   ],
   "source": [
    "print(\"\"\"MY name is Rajath Kumar M.P. I love Python.\"\"\")"
   ]
  },
  {
   "cell_type": "code",
   "execution_count": 4,
   "id": "8735d54a",
   "metadata": {},
   "outputs": [],
   "source": [
    "string1='World'"
   ]
  },
  {
   "cell_type": "code",
   "execution_count": 5,
   "id": "5a5dce54",
   "metadata": {},
   "outputs": [
    {
     "name": "stdout",
     "output_type": "stream",
     "text": [
      "Hello World\n"
     ]
    }
   ],
   "source": [
    "print('Hello',string1)"
   ]
  },
  {
   "cell_type": "code",
   "execution_count": 9,
   "id": "6d347ae5",
   "metadata": {},
   "outputs": [],
   "source": [
    "string2='!'"
   ]
  },
  {
   "cell_type": "code",
   "execution_count": 10,
   "id": "7c5d1d13",
   "metadata": {},
   "outputs": [
    {
     "name": "stdout",
     "output_type": "stream",
     "text": [
      "Hello World !\n"
     ]
    }
   ],
   "source": [
    "print('Hello',string1,string2)"
   ]
  },
  {
   "cell_type": "code",
   "execution_count": 11,
   "id": "ea0ab135",
   "metadata": {},
   "outputs": [
    {
     "name": "stdout",
     "output_type": "stream",
     "text": [
      "HelloWorld!\n"
     ]
    }
   ],
   "source": [
    "print('Hello'+string1+string2)"
   ]
  },
  {
   "cell_type": "code",
   "execution_count": 12,
   "id": "f9d1f74e",
   "metadata": {},
   "outputs": [
    {
     "name": "stdout",
     "output_type": "stream",
     "text": [
      "Jan\n",
      "Feb\n",
      "Mar\n",
      "Apr\n",
      "May\n",
      "Jun\n",
      "Jul\n",
      "Aug\n"
     ]
    }
   ],
   "source": [
    "print(\"Jan\\nFeb\\nMar\\nApr\\nMay\\nJun\\nJul\\nAug\")"
   ]
  },
  {
   "cell_type": "code",
   "execution_count": 15,
   "id": "fc3a3d71",
   "metadata": {},
   "outputs": [
    {
     "name": "stdout",
     "output_type": "stream",
     "text": [
      "I want \\n to be printed\n"
     ]
    }
   ],
   "source": [
    "print(\"I want \\\\n to be printed\")"
   ]
  },
  {
   "cell_type": "code",
   "execution_count": 16,
   "id": "36c79bc3",
   "metadata": {},
   "outputs": [
    {
     "name": "stdout",
     "output_type": "stream",
     "text": [
      "<class 'int'>\n",
      "<class 'str'>\n",
      "<class 'bool'>\n"
     ]
    },
    {
     "data": {
      "text/plain": [
       "float"
      ]
     },
     "execution_count": 16,
     "metadata": {},
     "output_type": "execute_result"
    }
   ],
   "source": [
    "x = 10\n",
    "print(type(x))\n",
    "s = 'abc'\n",
    "print(type(s))\n",
    "value= True\n",
    "print(type(value))\n",
    "percent=90.00\n",
    "type(percent)"
   ]
  },
  {
   "cell_type": "code",
   "execution_count": null,
   "id": "fb604a9b",
   "metadata": {},
   "outputs": [],
   "source": []
  }
 ],
 "metadata": {
  "kernelspec": {
   "display_name": "Python 3",
   "language": "python",
   "name": "python3"
  },
  "language_info": {
   "codemirror_mode": {
    "name": "ipython",
    "version": 3
   },
   "file_extension": ".py",
   "mimetype": "text/x-python",
   "name": "python",
   "nbconvert_exporter": "python",
   "pygments_lexer": "ipython3",
   "version": "3.8.8"
  }
 },
 "nbformat": 4,
 "nbformat_minor": 5
}
